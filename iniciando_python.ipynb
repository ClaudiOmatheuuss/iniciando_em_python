{
  "nbformat": 4,
  "nbformat_minor": 0,
  "metadata": {
    "colab": {
      "provenance": [],
      "collapsed_sections": [
        "cTg7wGvph0Lb",
        "gUcPkBsAkucU"
      ],
      "authorship_tag": "ABX9TyNK0LmngUuZt7FKddjimQKr",
      "include_colab_link": true
    },
    "kernelspec": {
      "name": "python3",
      "display_name": "Python 3"
    },
    "language_info": {
      "name": "python"
    }
  },
  "cells": [
    {
      "cell_type": "markdown",
      "metadata": {
        "id": "view-in-github",
        "colab_type": "text"
      },
      "source": [
        "<a href=\"https://colab.research.google.com/github/ClaudiOmatheuuss/iniciando_em_python/blob/main/iniciando_python.ipynb\" target=\"_parent\"><img src=\"https://colab.research.google.com/assets/colab-badge.svg\" alt=\"Open In Colab\"/></a>"
      ]
    },
    {
      "cell_type": "markdown",
      "source": [
        "# 01. Variáveis e funções"
      ],
      "metadata": {
        "id": "cTg7wGvph0Lb"
      }
    },
    {
      "cell_type": "code",
      "execution_count": null,
      "metadata": {
        "id": "FlEmnBHthv5J"
      },
      "outputs": [],
      "source": [
        "# Strings no Python podem ter aspas \"\" ou '', entretanto, por convenção se usa aspas ''\n",
        "print('assim');\n",
        "\n",
        "# variáveis são um tipo de instrução ao computador usar espaço reservado de memória para guardar uma informação/valor\n",
        "meu_nome = \"Claudio\";\n",
        "\n",
        "meu_nome += \"a1\";\n",
        "\n",
        "print(meu_nome);"
      ]
    },
    {
      "cell_type": "markdown",
      "source": [
        "> Em computação, uma função é uma sequência de instruções ou linhas de código, que realizam uma determinada ação.\n",
        ">\n",
        "\n",
        "ex de funções embutidas/nativas da linguagem Python:\n",
        "\n",
        "print → módulo ou função responsável por retornar um output com algum valor ou informação direto no console\n",
        "\n",
        "input → função ou módulo responsável por pedir uma entrada do usuário com algum valor ou informação a fim de armazena-lo em uma variável"
      ],
      "metadata": {
        "id": "LT1fVy0IizRr"
      }
    },
    {
      "cell_type": "code",
      "source": [
        "\"\"\"\n",
        "  como executar uma função no python?     nome_funcao(parametro(s))\n",
        "  função embutida para exibir informação ou valores no console -> print(param)\n",
        "\"\"\"\n",
        "print(\"Meu nome é Claudio\")\n",
        "\n",
        "# fstrings são ferramentas muito utilizadas para outputs que permite fácilmente a utilização de strings em conjunto com variaveis\n",
        "meu_nome = \"Claudio\"\n",
        "idade = 19\n",
        "print(f'Meu nome é {meu_nome} e tenho {idade} anos')\n",
        "\n",
        "print('-------------------------------------')\n",
        "print('um ano se passou...')\n",
        "print('-------------------------------------')\n",
        "\n",
        "idade = 20\n",
        "print(f'Meu nome é {meu_nome} e tenho {idade} anos')\n",
        "\n",
        "\n",
        "print('')\n",
        "\n",
        "\"\"\"\n",
        "  O python tem essas funções nativas, entretanto, você pode criar suas próprias funções seguindo a estrutura:\n",
        "                                   def nome_funcao(parametro(s)):\n",
        "                                      <codigo a ser executado/>\n",
        "\"\"\"\n",
        "\n",
        "#  funcao saudacao deve perguntar o nome da pessoa e printar no output Olá nome_usuario\n",
        "\n",
        "def saudacao():\n",
        "    nome = input('Bom dia :) qual é o seu nome? ')\n",
        "    print(f'Olá, {nome} tenha um bom dia! ^-^')\n",
        "\n",
        "\n",
        "# para ser executada o código de uma funcao é preciso chamar-lá\n",
        "saudacao()"
      ],
      "metadata": {
        "id": "aV4YOualidEo"
      },
      "execution_count": null,
      "outputs": []
    },
    {
      "cell_type": "markdown",
      "source": [
        "# 02. Parâmetros, condicionais e conversões de dados"
      ],
      "metadata": {
        "id": "gUcPkBsAkucU"
      }
    },
    {
      "cell_type": "code",
      "source": [
        "# uma função nada mais é que uma sequência de instruções que realizam determinada ação\n",
        "# é possível fazer comunicação entre oq está dentro e fora da função através de parametros\n",
        "\n",
        "#para isso é preciso na criação da funcao especificar o(s) parametro(s), além disso, na hora de chamar-las é obrigatório especificar qual vai ser o valor desse parâmetro\n",
        "\n",
        "nome = 'Alce Barbuda'\n",
        "\n",
        "def saudacao_com_parametros(nome_da_pessoa):\n",
        "    print(f'Olá {nome_da_pessoa}')\n",
        "\n",
        "saudacao_com_parametros(nome)"
      ],
      "metadata": {
        "colab": {
          "base_uri": "https://localhost:8080/"
        },
        "id": "ed5aOoASk4lc",
        "outputId": "dceb7a15-5e38-4125-f899-097218bffa5e"
      },
      "execution_count": null,
      "outputs": [
        {
          "output_type": "stream",
          "name": "stdout",
          "text": [
            "Olá Alce Barbuda\n"
          ]
        }
      ]
    },
    {
      "cell_type": "markdown",
      "source": [
        "> As condições em programação são ferramenta essencial, uma vez que, através dessas condições é possível definir uma série de regras dentro código, bem como, mudar o fluxo do código durante sua execução.\n",
        ">\n",
        "\n",
        " IF, ELIF e ELSE. são estruturas condicionais presentes no python\n",
        "\n",
        "Nessa aula construimos uma função onde devemos passar a idade do usuário como parametro e através disso, usamos esse valor da idade para verificar se é maior ou igual que 18 e se sim informa no output que o usuário pode dirigir, se não, informa no output que o usuário não pode dirigir."
      ],
      "metadata": {
        "id": "DSiqnpnnlNAW"
      }
    },
    {
      "cell_type": "code",
      "source": [
        "\"\"\"\n",
        "  Condicionais podem ser compreendidas como na vida real, por exemplo, se estiver chovendo então pegar casaco, se não então vestir apenas com uniforme\n",
        "  essas condições podem resultar em valores do tipo booleano 0 ou 1, falso ou verdadeiro, nível lógico baixo ou alto...\n",
        "  Em conclusão, o que mais importa sobre o uso desse conceito na computação é que com ele podemos através e de acordo com condições durante a execução mudar o fluxo do código\n",
        "\"\"\"\n",
        "\n",
        "\n",
        "idade = 12\n",
        "\n",
        "def verifica_idade(idade_usuario):\n",
        "    # se a condição na linha 10 -> idade é maior ou igual a dezoito for verdade, então a linha 11 é lida, se não, a linha 13 é lida.\n",
        "    if idade_usuario >= 18:\n",
        "        print('Pode dirigir')\n",
        "    else:\n",
        "        print('Não pode dirigir')\n",
        "\n",
        "verifica_idade(idade)"
      ],
      "metadata": {
        "id": "QGQZkGMblPp6"
      },
      "execution_count": null,
      "outputs": []
    },
    {
      "cell_type": "code",
      "source": [
        "\"\"\"\n",
        "A conversão de tipos é outro instrumento importantissimo na computação, bem como, ter a noção de que algumas operações não podem ser feitas entre diferentes tipos de informações.\n",
        "As comparações entre dados do tipo str e int são um exemplo disso.\n",
        "\"\"\"\n",
        "\n",
        "# aprimorando a função para não precisar de parâmetro\n",
        "def verifica_se_pode_dirigir_sem_parametros():\n",
        "    idade = input('Digite sua idade: ')\n",
        "    #converte o valor que vem como str por padrão da função embutida input para um valor int, a fim de que seja possível comparar o mesmo.\n",
        "    idade = int(idade)\n",
        "\n",
        "    if idade >= 18:\n",
        "        print('Usuário pode dirigir')\n",
        "    else:\n",
        "        print('Usuário não pode dirigir')\n",
        "\n",
        "verifica_se_pode_dirigir_sem_parametros()"
      ],
      "metadata": {
        "id": "GQ9QN_Ztlf3W"
      },
      "execution_count": null,
      "outputs": []
    },
    {
      "cell_type": "markdown",
      "source": [
        "# 03. Listas, repetições e tipo booleano"
      ],
      "metadata": {
        "id": "hBl6TqEom9vX"
      }
    },
    {
      "cell_type": "markdown",
      "source": [
        "Uma outra forma de armazenar valores no Python é atraves de um tipo de dado chamado de listas.  \n",
        "Com as listas/tuplas é possível armazenar uma série de informações em uma única variável.\n",
        "\n",
        "Estrutura de uma lista:\n",
        "lista_elementos = [elemento01, elemento02, ...]\n",
        "\n",
        "Toda lista tem index que são responsáveis por acessar os elementos por posição. Começando do 0.\n",
        "- Exemplo:\n",
        "   - lista_idades = [19, 12, 10, 15]\n",
        "                                0,    1,   2,   3\n",
        "                                0,   -3,  -2,  -1\n"
      ],
      "metadata": {
        "id": "AQjJCXppnQaS"
      }
    },
    {
      "cell_type": "code",
      "source": [
        "print(lista_idades[3]) # exibe o elemento de index 3 no console, ou seja, \"15\"\n",
        "\n",
        "## Acessando mais de um elemento na lista sem usar loops\n",
        "print(lista_idades[0:2]) #retorna uma lista com apenas os elementos do index(posição) 0 até o index 2 excluindo o 2 por ser a posição limite\n",
        "\n",
        "print(lista_idades[1:]) #vai retornar uma lista com todos os itens a partir do item com index 1\n",
        "\n",
        "# Acessando ultimo item da lista\n",
        "print(lista_idades[-1]) #retorna o ultimo elemento\n",
        "\n",
        "## Acessando os itens de forma reversa\n",
        "print(lista_idades[-2]) #retorna o penultimo elemento\n",
        "print(lista_idades[-3]) #retorna o antepenultimo elemento\n",
        "\n",
        "\n",
        "# Importante também ressaltar que listas podem ter tipos de dados diferentes ao decorrer dela. EX:\n",
        "lista_dt = [15, 'Claudio', True, 3.14]\n",
        "\n",
        "for elemento in lista_dt:\n",
        "    print(f'O elemento {elemento} é do tipo: ', type(elemento))"
      ],
      "metadata": {
        "id": "JLSn6brqnEu7"
      },
      "execution_count": null,
      "outputs": []
    },
    {
      "cell_type": "code",
      "source": [
        "lista_idades = [18, 22, 15, 50]\n",
        "\n",
        "# estruturas de repetição(loops) são muito utilizadas para percorrer listas e também repetir trechos de código até certa condição seja atendida.\n",
        "\n",
        "def verifica_idade():\n",
        "    for idade in lista_idades: # para cada idade em lista_idades -> faz a verificação da condição e retona no output.\n",
        "        if idade >= 18:\n",
        "            print(f'{idade} anos de idade, TEM permissão para dirigir')\n",
        "        else:\n",
        "            print(f'{idade} anos de idade, NÃO TEM permissão para dirigir')\n",
        "\n",
        "verifica_idade()\n",
        "\n",
        "\n",
        "\n",
        "\n",
        "\"\"\"\n",
        "  Sabendo disso, crie uma lista chamada idades para armazenar várias idades.\n",
        "  Em seguida, passe essa lista como parâmetro para uma função chamada verifica_se_pode_dirigir e para cada idade dentro da lista,\n",
        "  verifique se a idade é maior ou igual a 18 anos.\n",
        "  Se for, exiba a idade e a mensagem Tem permissão. Caso contrário, exiba a mensagem Não tem permissão.\n",
        "\"\"\"\n",
        "idades = [15, 10, 11, 22, 25, 30]\n",
        "\n",
        "def verifica_se_pode_dirigir(lista_idades):\n",
        "    for idade in lista_idades:\n",
        "        if idade >= 18:\n",
        "            print('pode')\n",
        "        else:\n",
        "            print('pode não')\n",
        "\n",
        "verifica_se_pode_dirigir(idades)"
      ],
      "metadata": {
        "id": "-fE9Gun0oAqI"
      },
      "execution_count": null,
      "outputs": []
    },
    {
      "cell_type": "code",
      "source": [
        "# Um outro tipo de dado bastante importante é o tipo booleano também conhecido como valor lógico. E pode ser obtido através de comparações ou definições.\n",
        "\n",
        "\n",
        "# EXEMPLO: se queremos através de uma lista de idades adicionar em outra lista se a idade foi permitida dirigir ou não\n",
        "# podemos usar dados booleanos para isso\n",
        "permissoes = []\n",
        "idades = [20, 14, 40]\n",
        "\n",
        "def verifica_se_pode_dirigir(idades, permissoes):\n",
        "\tfor idade in idades:\n",
        "\t\tif idade >= 18:\n",
        "\t\t\tpermissoes.append(True)\n",
        "\t\telse:\n",
        "\t\t\tpermissoes.append(False) #.append é um método utilizado para inserir elementos em listas\n",
        "\n",
        "verifica_se_pode_dirigir(idades, permissoes)\n",
        "\n",
        "\n",
        "# AGORA EM OUTRO EXEMPLO USANDO O QUE JA TEMOS VAMOS SUPOR QUE:\n",
        "# queremos usando a lista de permissoes printar no output se a pessoa pode ou não dirigir\n",
        "for permissao in permissoes:\n",
        "\tif permissao == True:\n",
        "\t\tprint('Tem permissão para dirigir')\n",
        "\telse:\n",
        "\t\tprint('Não tem permissão para dirigir')"
      ],
      "metadata": {
        "id": "eo56-vJjoJ2B"
      },
      "execution_count": null,
      "outputs": []
    },
    {
      "cell_type": "markdown",
      "source": [
        "# 04. Imports"
      ],
      "metadata": {
        "id": "mOZOr8cdoVrB"
      }
    },
    {
      "cell_type": "markdown",
      "source": [
        "Nosso próximo desafio é criar uma lista para armazenar as notas de matemática de um determinado aluno. Tais notas serão de 0 até 10 e serão geradas de maneira aleatória pelo computador.\n",
        "\n",
        "Para facilitar a resolução desse problema vamos importar a biblioteca random que gera pseudonumeros aleatórios.\n",
        "\n",
        "como importar uma função de uma biblioteca?"
      ],
      "metadata": {
        "id": "F_0GugTjoe71"
      }
    },
    {
      "cell_type": "code",
      "source": [
        "\"\"\"\n",
        "  Uma biblioteca em python nada mais é que um conjunto de funções já prontas que podem ser usadas para resolver um problema.\n",
        "\n",
        "  Para o uso de biblioteca temos o cenário em que queremos criar uma lista para armazenar as notas de matemática de um determinado aluno.\n",
        "  Tais notas serão de 0 até 10 e serão geradas de maneira aleatória pelo computador.\n",
        "  e para isso usaremos a biblioteca random que contém a função randrange() para a geração de números inteiros seguindo certo intervalo.\n",
        "\n",
        "  estrutura para importar função de uma biblioteca\n",
        "  from nome_biblioteca import nome_funcao\n",
        "\"\"\"\n",
        "\n",
        "from random import randrange, seed\n",
        "\n",
        "seed(7) # o seed serve para conseguir controlar os padrões entre os pseudonúmeros gerados pela função randrange usando valor referência\n",
        "\n",
        "notas_matematica = []\n",
        "\n",
        "for notas in range(8):      # o range define a quantidade de vezes que o loop repete\n",
        "    notas_matematica.append(randrange(0,11)) # a cada loop adiciona um numero inteiro aleatório entre 0 e 10\n",
        "\n",
        "print(notas_matematica)"
      ],
      "metadata": {
        "id": "I1V7CfU7oeAV"
      },
      "execution_count": null,
      "outputs": []
    }
  ]
}