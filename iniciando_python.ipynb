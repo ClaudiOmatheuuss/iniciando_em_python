{
  "nbformat": 4,
  "nbformat_minor": 0,
  "metadata": {
    "colab": {
      "provenance": [],
      "collapsed_sections": [
        "cTg7wGvph0Lb",
        "gUcPkBsAkucU"
      ],
      "authorship_tag": "ABX9TyNjF40bUm1kT+mUBcIce6RO",
      "include_colab_link": true
    },
    "kernelspec": {
      "name": "python3",
      "display_name": "Python 3"
    },
    "language_info": {
      "name": "python"
    }
  },
  "cells": [
    {
      "cell_type": "markdown",
      "metadata": {
        "id": "view-in-github",
        "colab_type": "text"
      },
      "source": [
        "<a href=\"https://colab.research.google.com/github/ClaudiOmatheuuss/iniciando_em_python/blob/main/iniciando_python.ipynb\" target=\"_parent\"><img src=\"https://colab.research.google.com/assets/colab-badge.svg\" alt=\"Open In Colab\"/></a>"
      ]
    },
    {
      "cell_type": "markdown",
      "source": [
        "# 01. Variáveis e funções"
      ],
      "metadata": {
        "id": "cTg7wGvph0Lb"
      }
    },
    {
      "cell_type": "code",
      "execution_count": null,
      "metadata": {
        "id": "FlEmnBHthv5J"
      },
      "outputs": [],
      "source": [
        "# Strings no Python podem ter aspas \"\" ou '', entretanto, por convenção se usa aspas ''\n",
        "print('assim');\n",
        "\n",
        "# variáveis são um tipo de instrução ao computador usar espaço reservado de memória para guardar uma informação/valor\n",
        "meu_nome = \"Claudio\";\n",
        "\n",
        "meu_nome += \"a1\";\n",
        "\n",
        "print(meu_nome);"
      ]
    },
    {
      "cell_type": "markdown",
      "source": [
        "> Em computação, uma função é uma sequência de instruções ou linhas de código, que realizam uma determinada ação.\n",
        ">\n",
        "\n",
        "ex de funções embutidas/nativas da linguagem Python:\n",
        "\n",
        "print → módulo ou função responsável por retornar um output com algum valor ou informação direto no console\n",
        "\n",
        "input → função ou módulo responsável por pedir uma entrada do usuário com algum valor ou informação a fim de armazena-lo em uma variável"
      ],
      "metadata": {
        "id": "LT1fVy0IizRr"
      }
    },
    {
      "cell_type": "code",
      "source": [
        "\"\"\"\n",
        "  como executar uma função no python?     nome_funcao(parametro(s))\n",
        "  função embutida para exibir informação ou valores no console -> print(param)\n",
        "\"\"\"\n",
        "print(\"Meu nome é Claudio\")\n",
        "\n",
        "# fstrings são ferramentas muito utilizadas para outputs que permite fácilmente a utilização de strings em conjunto com variaveis\n",
        "meu_nome = \"Claudio\"\n",
        "idade = 19\n",
        "print(f'Meu nome é {meu_nome} e tenho {idade} anos')\n",
        "\n",
        "print('-------------------------------------')\n",
        "print('um ano se passou...')\n",
        "print('-------------------------------------')\n",
        "\n",
        "idade = 20\n",
        "print(f'Meu nome é {meu_nome} e tenho {idade} anos')\n",
        "\n",
        "\n",
        "print('')\n",
        "\n",
        "\"\"\"\n",
        "  O python tem essas funções nativas, entretanto, você pode criar suas próprias funções seguindo a estrutura:\n",
        "                                   def nome_funcao(parametro(s)):\n",
        "                                      <codigo a ser executado/>\n",
        "\"\"\"\n",
        "\n",
        "#  funcao saudacao deve perguntar o nome da pessoa e printar no output Olá nome_usuario\n",
        "\n",
        "def saudacao():\n",
        "    nome = input('Bom dia :) qual é o seu nome? ')\n",
        "    print(f'Olá, {nome} tenha um bom dia! ^-^')\n",
        "\n",
        "\n",
        "# para ser executada o código de uma funcao é preciso chamar-lá\n",
        "saudacao()"
      ],
      "metadata": {
        "id": "aV4YOualidEo"
      },
      "execution_count": null,
      "outputs": []
    },
    {
      "cell_type": "markdown",
      "source": [
        "# 02. Parâmetros, condicionais e conversões de dados"
      ],
      "metadata": {
        "id": "gUcPkBsAkucU"
      }
    },
    {
      "cell_type": "code",
      "source": [
        "# uma função nada mais é que uma sequência de instruções que realizam determinada ação\n",
        "# é possível fazer comunicação entre oq está dentro e fora da função através de parametros\n",
        "\n",
        "#para isso é preciso na criação da funcao especificar o(s) parametro(s), além disso, na hora de chamar-las é obrigatório especificar qual vai ser o valor desse parâmetro\n",
        "\n",
        "nome = 'Alce Barbuda'\n",
        "\n",
        "def saudacao_com_parametros(nome_da_pessoa):\n",
        "    print(f'Olá {nome_da_pessoa}')\n",
        "\n",
        "saudacao_com_parametros(nome)"
      ],
      "metadata": {
        "colab": {
          "base_uri": "https://localhost:8080/"
        },
        "id": "ed5aOoASk4lc",
        "outputId": "dceb7a15-5e38-4125-f899-097218bffa5e"
      },
      "execution_count": null,
      "outputs": [
        {
          "output_type": "stream",
          "name": "stdout",
          "text": [
            "Olá Alce Barbuda\n"
          ]
        }
      ]
    },
    {
      "cell_type": "markdown",
      "source": [
        "> As condições em programação são ferramenta essencial, uma vez que, através dessas condições é possível definir uma série de regras dentro código, bem como, mudar o fluxo do código durante sua execução.\n",
        ">\n",
        "\n",
        " IF, ELIF e ELSE. são estruturas condicionais presentes no python\n",
        "\n",
        "Nessa aula construimos uma função onde devemos passar a idade do usuário como parametro e através disso, usamos esse valor da idade para verificar se é maior ou igual que 18 e se sim informa no output que o usuário pode dirigir, se não, informa no output que o usuário não pode dirigir."
      ],
      "metadata": {
        "id": "DSiqnpnnlNAW"
      }
    },
    {
      "cell_type": "code",
      "source": [
        "\"\"\"\n",
        "  Condicionais podem ser compreendidas como na vida real, por exemplo, se estiver chovendo então pegar casaco, se não então vestir apenas com uniforme\n",
        "  essas condições podem resultar em valores do tipo booleano 0 ou 1, falso ou verdadeiro, nível lógico baixo ou alto...\n",
        "  Em conclusão, o que mais importa sobre o uso desse conceito na computação é que com ele podemos através e de acordo com condições durante a execução mudar o fluxo do código\n",
        "\"\"\"\n",
        "\n",
        "\n",
        "idade = 12\n",
        "\n",
        "def verifica_idade(idade_usuario):\n",
        "    # se a condição na linha 10 -> idade é maior ou igual a dezoito for verdade, então a linha 11 é lida, se não, a linha 13 é lida.\n",
        "    if idade_usuario >= 18:\n",
        "        print('Pode dirigir')\n",
        "    else:\n",
        "        print('Não pode dirigir')\n",
        "\n",
        "verifica_idade(idade)"
      ],
      "metadata": {
        "id": "QGQZkGMblPp6"
      },
      "execution_count": null,
      "outputs": []
    },
    {
      "cell_type": "code",
      "source": [
        "\"\"\"\n",
        "A conversão de tipos é outro instrumento importantissimo na computação, bem como, ter a noção de que algumas operações não podem ser feitas entre diferentes tipos de informações.\n",
        "As comparações entre dados do tipo str e int são um exemplo disso.\n",
        "\"\"\"\n",
        "\n",
        "# aprimorando a função para não precisar de parâmetro\n",
        "def verifica_se_pode_dirigir_sem_parametros():\n",
        "    idade = input('Digite sua idade: ')\n",
        "    #converte o valor que vem como str por padrão da função embutida input para um valor int, a fim de que seja possível comparar o mesmo.\n",
        "    idade = int(idade)\n",
        "\n",
        "    if idade >= 18:\n",
        "        print('Usuário pode dirigir')\n",
        "    else:\n",
        "        print('Usuário não pode dirigir')\n",
        "\n",
        "verifica_se_pode_dirigir_sem_parametros()"
      ],
      "metadata": {
        "id": "GQ9QN_Ztlf3W"
      },
      "execution_count": null,
      "outputs": []
    },
    {
      "cell_type": "markdown",
      "source": [
        "# 03. Listas, repetições e tipo booleano"
      ],
      "metadata": {
        "id": "hBl6TqEom9vX"
      }
    },
    {
      "cell_type": "markdown",
      "source": [
        "Uma outra forma de armazenar valores no Python é atraves de um tipo de dado chamado de listas.  \n",
        "Com as listas/tuplas é possível armazenar uma série de informações em uma única variável.\n",
        "\n",
        "Estrutura de uma lista:\n",
        "lista_elementos = [elemento01, elemento02, ...]\n",
        "\n",
        "Toda lista tem index que são responsáveis por acessar os elementos por posição. Começando do 0.\n",
        "- Exemplo:\n",
        "   - lista_idades = [19, 12, 10, 15]\n",
        "                                0,    1,   2,   3\n",
        "                                0,   -3,  -2,  -1\n"
      ],
      "metadata": {
        "id": "AQjJCXppnQaS"
      }
    },
    {
      "cell_type": "code",
      "source": [
        "print(lista_idades[3]) # exibe o elemento de index 3 no console, ou seja, \"15\"\n",
        "\n",
        "## Acessando mais de um elemento na lista sem usar loops\n",
        "print(lista_idades[0:2]) #retorna uma lista com apenas os elementos do index(posição) 0 até o index 2 excluindo o 2 por ser a posição limite\n",
        "\n",
        "print(lista_idades[1:]) #vai retornar uma lista com todos os itens a partir do item com index 1\n",
        "\n",
        "# Acessando ultimo item da lista\n",
        "print(lista_idades[-1]) #retorna o ultimo elemento\n",
        "\n",
        "## Acessando os itens de forma reversa\n",
        "print(lista_idades[-2]) #retorna o penultimo elemento\n",
        "print(lista_idades[-3]) #retorna o antepenultimo elemento\n",
        "\n",
        "\n",
        "# Importante também ressaltar que listas podem ter tipos de dados diferentes ao decorrer dela. EX:\n",
        "lista_dt = [15, 'Claudio', True, 3.14]\n",
        "\n",
        "for elemento in lista_dt:\n",
        "    print(f'O elemento {elemento} é do tipo: ', type(elemento))"
      ],
      "metadata": {
        "id": "JLSn6brqnEu7"
      },
      "execution_count": null,
      "outputs": []
    },
    {
      "cell_type": "code",
      "source": [
        "lista_idades = [18, 22, 15, 50]\n",
        "\n",
        "# estruturas de repetição(loops) são muito utilizadas para percorrer listas e também repetir trechos de código até certa condição seja atendida.\n",
        "\n",
        "def verifica_idade():\n",
        "    for idade in lista_idades: # para cada idade em lista_idades -> faz a verificação da condição e retona no output.\n",
        "        if idade >= 18:\n",
        "            print(f'{idade} anos de idade, TEM permissão para dirigir')\n",
        "        else:\n",
        "            print(f'{idade} anos de idade, NÃO TEM permissão para dirigir')\n",
        "\n",
        "verifica_idade()\n",
        "\n",
        "\n",
        "\n",
        "\n",
        "\"\"\"\n",
        "  Sabendo disso, crie uma lista chamada idades para armazenar várias idades.\n",
        "  Em seguida, passe essa lista como parâmetro para uma função chamada verifica_se_pode_dirigir e para cada idade dentro da lista,\n",
        "  verifique se a idade é maior ou igual a 18 anos.\n",
        "  Se for, exiba a idade e a mensagem Tem permissão. Caso contrário, exiba a mensagem Não tem permissão.\n",
        "\"\"\"\n",
        "idades = [15, 10, 11, 22, 25, 30]\n",
        "\n",
        "def verifica_se_pode_dirigir(lista_idades):\n",
        "    for idade in lista_idades:\n",
        "        if idade >= 18:\n",
        "            print('pode')\n",
        "        else:\n",
        "            print('pode não')\n",
        "\n",
        "verifica_se_pode_dirigir(idades)"
      ],
      "metadata": {
        "id": "-fE9Gun0oAqI"
      },
      "execution_count": null,
      "outputs": []
    },
    {
      "cell_type": "code",
      "source": [
        "# Um outro tipo de dado bastante importante é o tipo booleano também conhecido como valor lógico. E pode ser obtido através de comparações ou definições.\n",
        "\n",
        "\n",
        "# EXEMPLO: se queremos através de uma lista de idades adicionar em outra lista se a idade foi permitida dirigir ou não\n",
        "# podemos usar dados booleanos para isso\n",
        "permissoes = []\n",
        "idades = [20, 14, 40]\n",
        "\n",
        "def verifica_se_pode_dirigir(idades, permissoes):\n",
        "\tfor idade in idades:\n",
        "\t\tif idade >= 18:\n",
        "\t\t\tpermissoes.append(True)\n",
        "\t\telse:\n",
        "\t\t\tpermissoes.append(False) #.append é um método utilizado para inserir elementos em listas\n",
        "\n",
        "verifica_se_pode_dirigir(idades, permissoes)\n",
        "\n",
        "\n",
        "# AGORA EM OUTRO EXEMPLO USANDO O QUE JA TEMOS VAMOS SUPOR QUE:\n",
        "# queremos usando a lista de permissoes printar no output se a pessoa pode ou não dirigir\n",
        "for permissao in permissoes:\n",
        "\tif permissao == True:\n",
        "\t\tprint('Tem permissão para dirigir')\n",
        "\telse:\n",
        "\t\tprint('Não tem permissão para dirigir')"
      ],
      "metadata": {
        "id": "eo56-vJjoJ2B"
      },
      "execution_count": null,
      "outputs": []
    },
    {
      "cell_type": "markdown",
      "source": [
        "# 04. Imports"
      ],
      "metadata": {
        "id": "mOZOr8cdoVrB"
      }
    },
    {
      "cell_type": "markdown",
      "source": [
        "Nosso próximo desafio é criar uma lista para armazenar as notas de matemática de um determinado aluno. Tais notas serão de 0 até 10 e serão geradas de maneira aleatória pelo computador.\n",
        "\n",
        "Para facilitar a resolução desse problema vamos importar a biblioteca random que gera pseudonumeros aleatórios.\n",
        "\n",
        "como importar uma função de uma biblioteca?"
      ],
      "metadata": {
        "id": "F_0GugTjoe71"
      }
    },
    {
      "cell_type": "code",
      "source": [
        "\"\"\"\n",
        "  Uma biblioteca em python nada mais é que um conjunto de funções já prontas que podem ser usadas para resolver um problema.\n",
        "\n",
        "  Para o uso de biblioteca temos o cenário em que queremos criar uma lista para armazenar as notas de matemática de um determinado aluno.\n",
        "  Tais notas serão de 0 até 10 e serão geradas de maneira aleatória pelo computador.\n",
        "  e para isso usaremos a biblioteca random que contém a função randrange() para a geração de números inteiros seguindo certo intervalo.\n",
        "\n",
        "  estrutura para importar função de uma biblioteca\n",
        "  from nome_biblioteca import nome_funcao\n",
        "\"\"\"\n",
        "\n",
        "from random import randrange, seed\n",
        "\n",
        "seed(9) # o seed serve para conseguir controlar os padrões entre os pseudonúmeros gerados pela função randrange usando valor referência\n",
        "\n",
        "notas_matematica = []\n",
        "\n",
        "for notas in range(8):      # o range define a quantidade de vezes que o loop repete\n",
        "    notas_matematica.append(randrange(0,11)) # a cada loop adiciona um numero inteiro aleatório entre 0 e 10\n",
        "\n",
        "print(notas_matematica)"
      ],
      "metadata": {
        "id": "I1V7CfU7oeAV",
        "colab": {
          "base_uri": "https://localhost:8080/"
        },
        "outputId": "8e53af0e-6deb-4a7c-fdea-ec78760ccc76"
      },
      "execution_count": 40,
      "outputs": [
        {
          "output_type": "stream",
          "name": "stdout",
          "text": [
            "[7, 9, 5, 4, 2, 2, 10, 0]\n"
          ]
        }
      ]
    },
    {
      "cell_type": "markdown",
      "source": [
        "# 05. Matplotlib"
      ],
      "metadata": {
        "id": "Isg36FGYVXSO"
      }
    },
    {
      "cell_type": "markdown",
      "source": [
        "Com as notas geradas aleatóriamente por meio da função geradora de pseudonumeros -> randrange da biblioteca random. Vamos usar esses dados das notas para criar uma função plotando para ter uma vizualização desses dados através de um gráfico usando o módulo pyplot da biblioteca Matplotlib.\n",
        "Ex:\n",
        "\n",
        "\n",
        "- ![image.png](data:image/png;base64,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)"
      ],
      "metadata": {
        "id": "q8NQztVIVfQy"
      }
    },
    {
      "cell_type": "code",
      "source": [
        "#importa o módulo 'pyplot' da biblioteca matplotlib usando boas práticas\n",
        "import matplotlib.pyplot as plt"
      ],
      "metadata": {
        "id": "HskdBXj6VeU-"
      },
      "execution_count": 27,
      "outputs": []
    },
    {
      "cell_type": "code",
      "source": [
        "#    X = provas           Y = notas\n",
        "x = list(range(1, 9))\n",
        "y = notas_matematica\n",
        "\n",
        "\n",
        "plt.plot(x, y, marker='o')      #desenha o gráfico com os parâmetros -> (eixoX, eixoY, marcador(opcional))\n",
        "plt.title('Notas de matemática')    #título do gráfico\n",
        "\n",
        "#nome dos eixos X e Y\n",
        "plt.xlabel('Provas')\n",
        "plt.ylabel('Notas')\n",
        "\n",
        "plt.show() #exibe o gráfico com suas propriedades"
      ],
      "metadata": {
        "colab": {
          "base_uri": "https://localhost:8080/",
          "height": 472
        },
        "id": "tvCUruIDXMpW",
        "outputId": "7c2d865a-b09a-49a0-a510-3c909d213452"
      },
      "execution_count": 43,
      "outputs": [
        {
          "output_type": "display_data",
          "data": {
            "text/plain": [
              "<Figure size 640x480 with 1 Axes>"
            ],
            "image/png": "[encoded data removed]"
          },
          "metadata": {}
        }
      ]
    },
    {
      "cell_type": "code",
      "source": [
        "notas_matematica"
      ],
      "metadata": {
        "colab": {
          "base_uri": "https://localhost:8080/"
        },
        "id": "dhXDAyA8Zz0L",
        "outputId": "0496a8eb-73a4-444b-eddf-50cdfdad3713"
      },
      "execution_count": 44,
      "outputs": [
        {
          "output_type": "execute_result",
          "data": {
            "text/plain": [
              "[7, 9, 5, 4, 2, 2, 10, 0]"
            ]
          },
          "metadata": {},
          "execution_count": 44
        }
      ]
    }
  ]
}