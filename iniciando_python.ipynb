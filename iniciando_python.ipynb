{
  "nbformat": 4,
  "nbformat_minor": 0,
  "metadata": {
    "colab": {
      "provenance": [],
      "collapsed_sections": [
        "cTg7wGvph0Lb",
        "gUcPkBsAkucU"
      ],
      "authorship_tag": "ABX9TyPJ2FdgZz14cithRuHNXXec",
      "include_colab_link": true
    },
    "kernelspec": {
      "name": "python3",
      "display_name": "Python 3"
    },
    "language_info": {
      "name": "python"
    }
  },
  "cells": [
    {
      "cell_type": "markdown",
      "metadata": {
        "id": "view-in-github",
        "colab_type": "text"
      },
      "source": [
        "<a href=\"https://colab.research.google.com/github/ClaudiOmatheuuss/iniciando_em_python/blob/main/iniciando_python.ipynb\" target=\"_parent\"><img src=\"https://colab.research.google.com/assets/colab-badge.svg\" alt=\"Open In Colab\"/></a>"
      ]
    },
    {
      "cell_type": "markdown",
      "source": [
        "# 01. Variáveis e funções"
      ],
      "metadata": {
        "id": "cTg7wGvph0Lb"
      }
    },
    {
      "cell_type": "code",
      "execution_count": null,
      "metadata": {
        "id": "FlEmnBHthv5J"
      },
      "outputs": [],
      "source": [
        "# Strings no Python podem ter aspas \"\" ou '', entretanto, por convenção se usa aspas ''\n",
        "print('assim');\n",
        "\n",
        "# variáveis são um tipo de instrução ao computador usar espaço reservado de memória para guardar uma informação/valor\n",
        "meu_nome = \"Claudio\";\n",
        "\n",
        "meu_nome += \"a1\";\n",
        "\n",
        "print(meu_nome);"
      ]
    },
    {
      "cell_type": "markdown",
      "source": [
        "> Em computação, uma função é uma sequência de instruções ou linhas de código, que realizam uma determinada ação.\n",
        ">\n",
        "\n",
        "ex de funções embutidas/nativas da linguagem Python:\n",
        "\n",
        "print → módulo ou função responsável por retornar um output com algum valor ou informação direto no console\n",
        "\n",
        "input → função ou módulo responsável por pedir uma entrada do usuário com algum valor ou informação a fim de armazena-lo em uma variável"
      ],
      "metadata": {
        "id": "LT1fVy0IizRr"
      }
    },
    {
      "cell_type": "code",
      "source": [
        "\"\"\"\n",
        "  como executar uma função no python?     nome_funcao(parametro(s))\n",
        "  função embutida para exibir informação ou valores no console -> print(param)\n",
        "\"\"\"\n",
        "print(\"Meu nome é Claudio\")\n",
        "\n",
        "# fstrings são ferramentas muito utilizadas para outputs que permite fácilmente a utilização de strings em conjunto com variaveis\n",
        "meu_nome = \"Claudio\"\n",
        "idade = 19\n",
        "print(f'Meu nome é {meu_nome} e tenho {idade} anos')\n",
        "\n",
        "print('-------------------------------------')\n",
        "print('um ano se passou...')\n",
        "print('-------------------------------------')\n",
        "\n",
        "idade = 20\n",
        "print(f'Meu nome é {meu_nome} e tenho {idade} anos')\n",
        "\n",
        "\n",
        "print('')\n",
        "\n",
        "\"\"\"\n",
        "  O python tem essas funções nativas, entretanto, você pode criar suas próprias funções seguindo a estrutura:\n",
        "                                   def nome_funcao(parametro(s)):\n",
        "                                      <codigo a ser executado/>\n",
        "\"\"\"\n",
        "\n",
        "#  funcao saudacao deve perguntar o nome da pessoa e printar no output Olá nome_usuario\n",
        "\n",
        "def saudacao():\n",
        "    nome = input('Bom dia :) qual é o seu nome? ')\n",
        "    print(f'Olá, {nome} tenha um bom dia! ^-^')\n",
        "\n",
        "\n",
        "# para ser executada o código de uma funcao é preciso chamar-lá\n",
        "saudacao()"
      ],
      "metadata": {
        "id": "aV4YOualidEo"
      },
      "execution_count": null,
      "outputs": []
    },
    {
      "cell_type": "markdown",
      "source": [
        "# 02. Parâmetros, condicionais e conversões de dados"
      ],
      "metadata": {
        "id": "gUcPkBsAkucU"
      }
    },
    {
      "cell_type": "code",
      "source": [
        "# uma função nada mais é que uma sequência de instruções que realizam determinada ação\n",
        "# é possível fazer comunicação entre oq está dentro e fora da função através de parametros\n",
        "\n",
        "#para isso é preciso na criação da funcao especificar o(s) parametro(s), além disso, na hora de chamar-las é obrigatório especificar qual vai ser o valor desse parâmetro\n",
        "\n",
        "nome = 'Alce Barbuda'\n",
        "\n",
        "def saudacao_com_parametros(nome_da_pessoa):\n",
        "    print(f'Olá {nome_da_pessoa}')\n",
        "\n",
        "saudacao_com_parametros(nome)"
      ],
      "metadata": {
        "colab": {
          "base_uri": "https://localhost:8080/"
        },
        "id": "ed5aOoASk4lc",
        "outputId": "dceb7a15-5e38-4125-f899-097218bffa5e"
      },
      "execution_count": null,
      "outputs": [
        {
          "output_type": "stream",
          "name": "stdout",
          "text": [
            "Olá Alce Barbuda\n"
          ]
        }
      ]
    },
    {
      "cell_type": "markdown",
      "source": [
        "> As condições em programação são ferramenta essencial, uma vez que, através dessas condições é possível definir uma série de regras dentro código, bem como, mudar o fluxo do código durante sua execução.\n",
        ">\n",
        "\n",
        " IF, ELIF e ELSE. são estruturas condicionais presentes no python\n",
        "\n",
        "Nessa aula construimos uma função onde devemos passar a idade do usuário como parametro e através disso, usamos esse valor da idade para verificar se é maior ou igual que 18 e se sim informa no output que o usuário pode dirigir, se não, informa no output que o usuário não pode dirigir."
      ],
      "metadata": {
        "id": "DSiqnpnnlNAW"
      }
    },
    {
      "cell_type": "code",
      "source": [
        "\"\"\"\n",
        "  Condicionais podem ser compreendidas como na vida real, por exemplo, se estiver chovendo então pegar casaco, se não então vestir apenas com uniforme\n",
        "  essas condições podem resultar em valores do tipo booleano 0 ou 1, falso ou verdadeiro, nível lógico baixo ou alto...\n",
        "  Em conclusão, o que mais importa sobre o uso desse conceito na computação é que com ele podemos através e de acordo com condições durante a execução mudar o fluxo do código\n",
        "\"\"\"\n",
        "\n",
        "\n",
        "idade = 12\n",
        "\n",
        "def verifica_idade(idade_usuario):\n",
        "    # se a condição na linha 10 -> idade é maior ou igual a dezoito for verdade, então a linha 11 é lida, se não, a linha 13 é lida.\n",
        "    if idade_usuario >= 18:\n",
        "        print('Pode dirigir')\n",
        "    else:\n",
        "        print('Não pode dirigir')\n",
        "\n",
        "verifica_idade(idade)"
      ],
      "metadata": {
        "id": "QGQZkGMblPp6"
      },
      "execution_count": null,
      "outputs": []
    },
    {
      "cell_type": "code",
      "source": [
        "\"\"\"\n",
        "A conversão de tipos é outro instrumento importantissimo na computação, bem como, ter a noção de que algumas operações não podem ser feitas entre diferentes tipos de informações.\n",
        "As comparações entre dados do tipo str e int são um exemplo disso.\n",
        "\"\"\"\n",
        "\n",
        "# aprimorando a função para não precisar de parâmetro\n",
        "def verifica_se_pode_dirigir_sem_parametros():\n",
        "    idade = input('Digite sua idade: ')\n",
        "    #converte o valor que vem como str por padrão da função embutida input para um valor int, a fim de que seja possível comparar o mesmo.\n",
        "    idade = int(idade)\n",
        "\n",
        "    if idade >= 18:\n",
        "        print('Usuário pode dirigir')\n",
        "    else:\n",
        "        print('Usuário não pode dirigir')\n",
        "\n",
        "verifica_se_pode_dirigir_sem_parametros()"
      ],
      "metadata": {
        "id": "GQ9QN_Ztlf3W"
      },
      "execution_count": null,
      "outputs": []
    }
  ]
}