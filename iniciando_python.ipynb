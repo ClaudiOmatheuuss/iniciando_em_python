{
  "nbformat": 4,
  "nbformat_minor": 0,
  "metadata": {
    "colab": {
      "provenance": [],
      "authorship_tag": "ABX9TyPChnuhTpQ4sefS6HcHBPvi",
      "include_colab_link": true
    },
    "kernelspec": {
      "name": "python3",
      "display_name": "Python 3"
    },
    "language_info": {
      "name": "python"
    }
  },
  "cells": [
    {
      "cell_type": "markdown",
      "metadata": {
        "id": "view-in-github",
        "colab_type": "text"
      },
      "source": [
        "<a href=\"https://colab.research.google.com/github/ClaudiOmatheuuss/iniciando_em_python/blob/main/iniciando_python.ipynb\" target=\"_parent\"><img src=\"https://colab.research.google.com/assets/colab-badge.svg\" alt=\"Open In Colab\"/></a>"
      ]
    },
    {
      "cell_type": "markdown",
      "source": [
        "# 01. Variáveis e funções"
      ],
      "metadata": {
        "id": "cTg7wGvph0Lb"
      }
    },
    {
      "cell_type": "code",
      "execution_count": null,
      "metadata": {
        "id": "FlEmnBHthv5J"
      },
      "outputs": [],
      "source": [
        "# Strings no Python podem ter aspas \"\" ou '', entretanto, por convenção se usa aspas ''\n",
        "print('assim');\n",
        "\n",
        "# variáveis são um tipo de instrução ao computador usar espaço reservado de memória para guardar uma informação/valor\n",
        "meu_nome = \"Claudio\";\n",
        "\n",
        "meu_nome += \"a1\";\n",
        "\n",
        "print(meu_nome);"
      ]
    },
    {
      "cell_type": "markdown",
      "source": [
        "> Em computação, uma função é uma sequência de instruções ou linhas de código, que realizam uma determinada ação.\n",
        ">\n",
        "\n",
        "ex de funções embutidas/nativas da linguagem Python:\n",
        "\n",
        "print → módulo ou função responsável por retornar um output com algum valor ou informação direto no console\n",
        "\n",
        "input → função ou módulo responsável por pedir uma entrada do usuário com algum valor ou informação a fim de armazena-lo em uma variável"
      ],
      "metadata": {
        "id": "LT1fVy0IizRr"
      }
    },
    {
      "cell_type": "code",
      "source": [
        "\"\"\"\n",
        "  como executar uma função no python?     nome_funcao(parametro(s))\n",
        "  função embutida para exibir informação ou valores no console -> print(param)\n",
        "\"\"\"\n",
        "print(\"Meu nome é Claudio\")\n",
        "\n",
        "# fstrings são ferramentas muito utilizadas para outputs que permite fácilmente a utilização de strings em conjunto com variaveis\n",
        "meu_nome = \"Claudio\"\n",
        "idade = 19\n",
        "print(f'Meu nome é {meu_nome} e tenho {idade} anos')\n",
        "\n",
        "print('-------------------------------------')\n",
        "print('um ano se passou...')\n",
        "print('-------------------------------------')\n",
        "\n",
        "idade = 20\n",
        "print(f'Meu nome é {meu_nome} e tenho {idade} anos')\n",
        "\n",
        "\n",
        "print('')\n",
        "\n",
        "\"\"\"\n",
        "  O python tem essas funções nativas, entretanto, você pode criar suas próprias funções seguindo a estrutura:\n",
        "                                   def nome_funcao(parametro(s)):\n",
        "                                      <codigo a ser executado/>\n",
        "\"\"\"\n",
        "\n",
        "#  funcao saudacao deve perguntar o nome da pessoa e printar no output Olá nome_usuario\n",
        "\n",
        "def saudacao():\n",
        "    nome = input('Bom dia :) qual é o seu nome? ')\n",
        "    print(f'Olá, {nome} tenha um bom dia! ^-^')\n",
        "\n",
        "\n",
        "# para ser executada o código de uma funcao é preciso chamar-lá\n",
        "saudacao()"
      ],
      "metadata": {
        "id": "aV4YOualidEo"
      },
      "execution_count": null,
      "outputs": []
    }
  ]
}